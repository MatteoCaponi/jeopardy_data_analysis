{
 "cells": [
  {
   "cell_type": "code",
   "execution_count": 5,
   "metadata": {},
   "outputs": [
    {
     "name": "stderr",
     "output_type": "stream",
     "text": [
      "C:\\Users\\matte\\anaconda3\\lib\\site-packages\\ipykernel_launcher.py:4: FutureWarning: Passing a negative integer is deprecated in version 1.0 and will not be supported in future version. Instead, use None to not limit the column width.\n",
      "  after removing the cwd from sys.path.\n"
     ]
    }
   ],
   "source": [
    "import pandas as pd\n",
    "import numpy as np\n",
    "import matplotlib.pyplot as plt\n",
    "pd.set_option('display.max_colwidth', -1)"
   ]
  },
  {
   "cell_type": "markdown",
   "metadata": {},
   "source": [
    "### Exploring dataset"
   ]
  },
  {
   "cell_type": "code",
   "execution_count": 6,
   "metadata": {},
   "outputs": [
    {
     "data": {
      "text/html": [
       "<div>\n",
       "<style scoped>\n",
       "    .dataframe tbody tr th:only-of-type {\n",
       "        vertical-align: middle;\n",
       "    }\n",
       "\n",
       "    .dataframe tbody tr th {\n",
       "        vertical-align: top;\n",
       "    }\n",
       "\n",
       "    .dataframe thead th {\n",
       "        text-align: right;\n",
       "    }\n",
       "</style>\n",
       "<table border=\"1\" class=\"dataframe\">\n",
       "  <thead>\n",
       "    <tr style=\"text-align: right;\">\n",
       "      <th></th>\n",
       "      <th>Show Number</th>\n",
       "      <th>Air Date</th>\n",
       "      <th>Round</th>\n",
       "      <th>Category</th>\n",
       "      <th>Value</th>\n",
       "      <th>Question</th>\n",
       "      <th>Answer</th>\n",
       "    </tr>\n",
       "  </thead>\n",
       "  <tbody>\n",
       "    <tr>\n",
       "      <th>0</th>\n",
       "      <td>4680</td>\n",
       "      <td>2004-12-31</td>\n",
       "      <td>Jeopardy!</td>\n",
       "      <td>HISTORY</td>\n",
       "      <td>$200</td>\n",
       "      <td>For the last 8 years of his life, Galileo was under house arrest for espousing this man's theory</td>\n",
       "      <td>Copernicus</td>\n",
       "    </tr>\n",
       "    <tr>\n",
       "      <th>1</th>\n",
       "      <td>4680</td>\n",
       "      <td>2004-12-31</td>\n",
       "      <td>Jeopardy!</td>\n",
       "      <td>ESPN's TOP 10 ALL-TIME ATHLETES</td>\n",
       "      <td>$200</td>\n",
       "      <td>No. 2: 1912 Olympian; football star at Carlisle Indian School; 6 MLB seasons with the Reds, Giants &amp; Braves</td>\n",
       "      <td>Jim Thorpe</td>\n",
       "    </tr>\n",
       "    <tr>\n",
       "      <th>2</th>\n",
       "      <td>4680</td>\n",
       "      <td>2004-12-31</td>\n",
       "      <td>Jeopardy!</td>\n",
       "      <td>EVERYBODY TALKS ABOUT IT...</td>\n",
       "      <td>$200</td>\n",
       "      <td>The city of Yuma in this state has a record average of 4,055 hours of sunshine each year</td>\n",
       "      <td>Arizona</td>\n",
       "    </tr>\n",
       "    <tr>\n",
       "      <th>3</th>\n",
       "      <td>4680</td>\n",
       "      <td>2004-12-31</td>\n",
       "      <td>Jeopardy!</td>\n",
       "      <td>THE COMPANY LINE</td>\n",
       "      <td>$200</td>\n",
       "      <td>In 1963, live on \"The Art Linkletter Show\", this company served its billionth burger</td>\n",
       "      <td>McDonald's</td>\n",
       "    </tr>\n",
       "    <tr>\n",
       "      <th>4</th>\n",
       "      <td>4680</td>\n",
       "      <td>2004-12-31</td>\n",
       "      <td>Jeopardy!</td>\n",
       "      <td>EPITAPHS &amp; TRIBUTES</td>\n",
       "      <td>$200</td>\n",
       "      <td>Signer of the Dec. of Indep., framer of the Constitution of Mass., second President of the United States</td>\n",
       "      <td>John Adams</td>\n",
       "    </tr>\n",
       "  </tbody>\n",
       "</table>\n",
       "</div>"
      ],
      "text/plain": [
       "   Show Number    Air Date      Round                         Category  Value  \\\n",
       "0  4680         2004-12-31  Jeopardy!  HISTORY                          $200    \n",
       "1  4680         2004-12-31  Jeopardy!  ESPN's TOP 10 ALL-TIME ATHLETES  $200    \n",
       "2  4680         2004-12-31  Jeopardy!  EVERYBODY TALKS ABOUT IT...      $200    \n",
       "3  4680         2004-12-31  Jeopardy!  THE COMPANY LINE                 $200    \n",
       "4  4680         2004-12-31  Jeopardy!  EPITAPHS & TRIBUTES              $200    \n",
       "\n",
       "                                                                                                      Question  \\\n",
       "0  For the last 8 years of his life, Galileo was under house arrest for espousing this man's theory              \n",
       "1  No. 2: 1912 Olympian; football star at Carlisle Indian School; 6 MLB seasons with the Reds, Giants & Braves   \n",
       "2  The city of Yuma in this state has a record average of 4,055 hours of sunshine each year                      \n",
       "3  In 1963, live on \"The Art Linkletter Show\", this company served its billionth burger                          \n",
       "4  Signer of the Dec. of Indep., framer of the Constitution of Mass., second President of the United States      \n",
       "\n",
       "       Answer  \n",
       "0  Copernicus  \n",
       "1  Jim Thorpe  \n",
       "2  Arizona     \n",
       "3  McDonald's  \n",
       "4  John Adams  "
      ]
     },
     "execution_count": 6,
     "metadata": {},
     "output_type": "execute_result"
    }
   ],
   "source": [
    "df = pd.read_csv('jeopardy.csv')\n",
    "df.head()"
   ]
  },
  {
   "cell_type": "code",
   "execution_count": 7,
   "metadata": {},
   "outputs": [
    {
     "name": "stdout",
     "output_type": "stream",
     "text": [
      "<class 'pandas.core.frame.DataFrame'>\n",
      "RangeIndex: 216930 entries, 0 to 216929\n",
      "Data columns (total 7 columns):\n",
      " #   Column       Non-Null Count   Dtype \n",
      "---  ------       --------------   ----- \n",
      " 0   Show Number  216930 non-null  int64 \n",
      " 1    Air Date    216930 non-null  object\n",
      " 2    Round       216930 non-null  object\n",
      " 3    Category    216930 non-null  object\n",
      " 4    Value       216930 non-null  object\n",
      " 5    Question    216930 non-null  object\n",
      " 6    Answer      216928 non-null  object\n",
      "dtypes: int64(1), object(6)\n",
      "memory usage: 11.6+ MB\n"
     ]
    }
   ],
   "source": [
    "df.info()"
   ]
  },
  {
   "cell_type": "code",
   "execution_count": 8,
   "metadata": {},
   "outputs": [],
   "source": [
    "df.columns = ['show_n', 'date', 'round', 'category', 'price', 'question','answer']"
   ]
  },
  {
   "cell_type": "code",
   "execution_count": 9,
   "metadata": {},
   "outputs": [
    {
     "name": "stdout",
     "output_type": "stream",
     "text": [
      "2012-01-27 1984-09-10\n"
     ]
    }
   ],
   "source": [
    "print(df.date.max(),df.date.min())"
   ]
  },
  {
   "cell_type": "markdown",
   "metadata": {},
   "source": [
    "### Creating new column with price value as float"
   ]
  },
  {
   "cell_type": "code",
   "execution_count": 10,
   "metadata": {},
   "outputs": [],
   "source": [
    "df['pricef'] = df.price.apply( lambda x: x.lstrip('$').replace(',','')\n",
    "                                        if not 'None' in x else x.replace('None','0')).astype(float)"
   ]
  },
  {
   "cell_type": "markdown",
   "metadata": {},
   "source": [
    "### Creating function to determine the number of times a word(s) has been mentioned in the questions"
   ]
  },
  {
   "cell_type": "code",
   "execution_count": 13,
   "metadata": {},
   "outputs": [],
   "source": [
    "import re\n",
    "def test(data,s):\n",
    "    \n",
    "        \n",
    "    data['question']=data.question.astype(str).str.lower()\n",
    "    data['check'] = data.question.apply(lambda x: all(re.search((r'\\b'+(w.lower())+r's*\\'*\\b'),x) for w in s))\n",
    "    data['check']=data.check.astype(str)\n",
    "    data1 = data.loc[data.check == 'True']\n",
    "    data1.drop(['check'], axis=1, inplace=True)\n",
    "    return data1"
   ]
  },
  {
   "cell_type": "code",
   "execution_count": 14,
   "metadata": {},
   "outputs": [
    {
     "name": "stderr",
     "output_type": "stream",
     "text": [
      "C:\\Users\\matte\\anaconda3\\lib\\site-packages\\pandas\\core\\frame.py:3997: SettingWithCopyWarning: \n",
      "A value is trying to be set on a copy of a slice from a DataFrame\n",
      "\n",
      "See the caveats in the documentation: https://pandas.pydata.org/pandas-docs/stable/user_guide/indexing.html#returning-a-view-versus-a-copy\n",
      "  errors=errors,\n"
     ]
    },
    {
     "data": {
      "text/html": [
       "<div>\n",
       "<style scoped>\n",
       "    .dataframe tbody tr th:only-of-type {\n",
       "        vertical-align: middle;\n",
       "    }\n",
       "\n",
       "    .dataframe tbody tr th {\n",
       "        vertical-align: top;\n",
       "    }\n",
       "\n",
       "    .dataframe thead th {\n",
       "        text-align: right;\n",
       "    }\n",
       "</style>\n",
       "<table border=\"1\" class=\"dataframe\">\n",
       "  <thead>\n",
       "    <tr style=\"text-align: right;\">\n",
       "      <th></th>\n",
       "      <th>show_n</th>\n",
       "      <th>date</th>\n",
       "      <th>round</th>\n",
       "      <th>category</th>\n",
       "      <th>price</th>\n",
       "      <th>question</th>\n",
       "      <th>answer</th>\n",
       "      <th>pricef</th>\n",
       "    </tr>\n",
       "  </thead>\n",
       "  <tbody>\n",
       "    <tr>\n",
       "      <th>4953</th>\n",
       "      <td>3003</td>\n",
       "      <td>1997-09-24</td>\n",
       "      <td>Double Jeopardy!</td>\n",
       "      <td>\"PH\"UN WORDS</td>\n",
       "      <td>$200</td>\n",
       "      <td>both england's king george v &amp; fdr put their stamp of approval on this \"king of hobbies\"</td>\n",
       "      <td>Philately (stamp collecting)</td>\n",
       "      <td>200.0</td>\n",
       "    </tr>\n",
       "    <tr>\n",
       "      <th>6337</th>\n",
       "      <td>3517</td>\n",
       "      <td>1999-12-14</td>\n",
       "      <td>Double Jeopardy!</td>\n",
       "      <td>Y1K</td>\n",
       "      <td>$800</td>\n",
       "      <td>in retaliation for viking raids, this \"unready\" king of england attacks norse areas of the isle of man</td>\n",
       "      <td>Ethelred</td>\n",
       "      <td>800.0</td>\n",
       "    </tr>\n",
       "    <tr>\n",
       "      <th>9191</th>\n",
       "      <td>3907</td>\n",
       "      <td>2001-09-04</td>\n",
       "      <td>Double Jeopardy!</td>\n",
       "      <td>WON THE BATTLE</td>\n",
       "      <td>$800</td>\n",
       "      <td>this king of england beat the odds to trounce the french in the 1415 battle of agincourt</td>\n",
       "      <td>Henry V</td>\n",
       "      <td>800.0</td>\n",
       "    </tr>\n",
       "    <tr>\n",
       "      <th>11710</th>\n",
       "      <td>2903</td>\n",
       "      <td>1997-03-26</td>\n",
       "      <td>Double Jeopardy!</td>\n",
       "      <td>BRITISH MONARCHS</td>\n",
       "      <td>$600</td>\n",
       "      <td>this scotsman, the first stuart king of england, was called \"the wisest fool in christendom\"</td>\n",
       "      <td>James I</td>\n",
       "      <td>600.0</td>\n",
       "    </tr>\n",
       "    <tr>\n",
       "      <th>13454</th>\n",
       "      <td>4726</td>\n",
       "      <td>2005-03-07</td>\n",
       "      <td>Jeopardy!</td>\n",
       "      <td>A NUMBER FROM 1 TO 10</td>\n",
       "      <td>$1000</td>\n",
       "      <td>it's the number that followed the last king of england named william</td>\n",
       "      <td>4</td>\n",
       "      <td>1000.0</td>\n",
       "    </tr>\n",
       "  </tbody>\n",
       "</table>\n",
       "</div>"
      ],
      "text/plain": [
       "       show_n        date             round               category  price  \\\n",
       "4953   3003    1997-09-24  Double Jeopardy!  \"PH\"UN WORDS           $200    \n",
       "6337   3517    1999-12-14  Double Jeopardy!  Y1K                    $800    \n",
       "9191   3907    2001-09-04  Double Jeopardy!  WON THE BATTLE         $800    \n",
       "11710  2903    1997-03-26  Double Jeopardy!  BRITISH MONARCHS       $600    \n",
       "13454  4726    2005-03-07  Jeopardy!         A NUMBER FROM 1 TO 10  $1000   \n",
       "\n",
       "                                                                                                     question  \\\n",
       "4953   both england's king george v & fdr put their stamp of approval on this \"king of hobbies\"                 \n",
       "6337   in retaliation for viking raids, this \"unready\" king of england attacks norse areas of the isle of man   \n",
       "9191   this king of england beat the odds to trounce the french in the 1415 battle of agincourt                 \n",
       "11710  this scotsman, the first stuart king of england, was called \"the wisest fool in christendom\"             \n",
       "13454  it's the number that followed the last king of england named william                                     \n",
       "\n",
       "                             answer  pricef  \n",
       "4953   Philately (stamp collecting)  200.0   \n",
       "6337   Ethelred                      800.0   \n",
       "9191   Henry V                       800.0   \n",
       "11710  James I                       600.0   \n",
       "13454  4                             1000.0  "
      ]
     },
     "execution_count": 14,
     "metadata": {},
     "output_type": "execute_result"
    }
   ],
   "source": [
    "df_test = test(df,['King','England'])\n",
    "df_test.head()"
   ]
  },
  {
   "cell_type": "code",
   "execution_count": 15,
   "metadata": {},
   "outputs": [
    {
     "name": "stderr",
     "output_type": "stream",
     "text": [
      "C:\\Users\\matte\\anaconda3\\lib\\site-packages\\pandas\\core\\frame.py:3997: SettingWithCopyWarning: \n",
      "A value is trying to be set on a copy of a slice from a DataFrame\n",
      "\n",
      "See the caveats in the documentation: https://pandas.pydata.org/pandas-docs/stable/user_guide/indexing.html#returning-a-view-versus-a-copy\n",
      "  errors=errors,\n"
     ]
    },
    {
     "data": {
      "text/plain": [
       "805.3456032719837"
      ]
     },
     "execution_count": 15,
     "metadata": {},
     "output_type": "execute_result"
    }
   ],
   "source": [
    "df_test_1 = test(df,['King'])\n",
    "df_test_1.pricef.mean()"
   ]
  },
  {
   "cell_type": "markdown",
   "metadata": {},
   "source": [
    "### Creating function to determine average price value of word(s) mentioned in the questions "
   ]
  },
  {
   "cell_type": "code",
   "execution_count": 16,
   "metadata": {},
   "outputs": [],
   "source": [
    "def price_words(lst):\n",
    "    values = []\n",
    "    index = []\n",
    "    d = {name: test(df,[name]) for name in lst}\n",
    "    for i in d.values():\n",
    "        value = i.pricef.mean()\n",
    "        values.append(value)\n",
    "    for name in lst:\n",
    "        index.append(name)\n",
    "    d1 = {index[i]:values[i] for i in range(len(lst))}\n",
    "    ser = pd.Series(data = d1, index= index)\n",
    "    color =[]\n",
    "    for i in range(len(index)):\n",
    "        color.append('C'+str(i))\n",
    "    ax = ser.plot.barh(color=color)\n",
    "    ax.set_ylabel('Words')\n",
    "    ax.set_xlabel('Price US$')\n",
    "    return plt.show()"
   ]
  },
  {
   "cell_type": "code",
   "execution_count": 17,
   "metadata": {},
   "outputs": [
    {
     "data": {
      "image/png": "[encoded data removed]",
      "text/plain": [
       "<Figure size 432x288 with 1 Axes>"
      ]
     },
     "metadata": {
      "needs_background": "light"
     },
     "output_type": "display_data"
    }
   ],
   "source": [
    "fig = price_words(['love','French','Italian','American','German','money'])"
   ]
  },
  {
   "cell_type": "markdown",
   "metadata": {},
   "source": [
    "### Creating function to determine the number of questions and the average price for a selected word"
   ]
  },
  {
   "cell_type": "code",
   "execution_count": 99,
   "metadata": {},
   "outputs": [],
   "source": [
    "def price_overtime(word):\n",
    "    df_8 = df.loc[df.date.str.contains('198',case=False)]\n",
    "    df_9 = df.loc[df.date.str.contains('199',case=False)]\n",
    "    df_0 = df.loc[df.date.str.contains('200',case=False)]\n",
    "    df_1 = df.loc[df.date.str.contains('201',case=False)]\n",
    "    d = {'df_8':test(df_8,word),'df_9':test(df_9,word),'df_0':test(df_0,word),'df_1':test(df_1,word)}\n",
    "    \n",
    "    #d={name:test(name,word[0]) for name in di.items()}\n",
    "    all_d = pd.merge(df_8,df_9, how ='outer')\n",
    "    all_d = pd.merge(all_d,df_0, how ='outer')\n",
    "    all_d = pd.merge(all_d,df_1, how ='outer')\n",
    "    all_d['time'] = all_d.date.apply( lambda x: 'Eighties' if '198' in x else\n",
    "                                          ('Ninenties' if '199' in x else ('Two-thousands' if '200' in x \n",
    "                                                                           else 'Two-twousand tens')))\n",
    "    all_g = all_d.groupby(['time']).question.count().reset_index()\n",
    "    avg_p = []\n",
    "    for i in d.values():\n",
    "        avg = i.pricef.mean()\n",
    "        avg_p.append(avg)\n",
    "    all_g.insert(2,'price',avg_p, True)\n",
    "    all_g.set_index('time', inplace=True)\n",
    "    fig = plt.figure() # Create matplotlib figure\n",
    "\n",
    "    ax = fig.add_subplot(111) # Create matplotlib axes\n",
    "    ax2 = ax.twinx() # Create another axes that shares the same x-axis as ax.\n",
    "\n",
    "    width = 0.4\n",
    "\n",
    "    all_g.question.plot(kind='bar', color='red', ax=ax, width=width, position=1, rot=0)\n",
    "    all_g.price.plot(kind='bar', color='blue', ax=ax2, width=width, position=0,rot = 0)\n",
    "\n",
    "    ax.set_ylabel('Number of Questions')\n",
    "    ax2.set_ylabel('Price Value')\n",
    "    \n",
    "    #plt.show()\n",
    "    #ax = all_g.plot(kind='bar',secondary_y = 'price', rot= 0)\n",
    "    ax.legend(bbox_to_anchor=(1.2, 1.21))\n",
    "    ax2.legend(bbox_to_anchor=(1.15, 1.11))\n",
    "    return all_g\n",
    "    #return ax.plot()\n",
    "    return plt.show()"
   ]
  },
  {
   "cell_type": "code",
   "execution_count": 100,
   "metadata": {},
   "outputs": [
    {
     "name": "stderr",
     "output_type": "stream",
     "text": [
      "C:\\Users\\matte\\anaconda3\\lib\\site-packages\\ipykernel_launcher.py:5: SettingWithCopyWarning: \n",
      "A value is trying to be set on a copy of a slice from a DataFrame.\n",
      "Try using .loc[row_indexer,col_indexer] = value instead\n",
      "\n",
      "See the caveats in the documentation: https://pandas.pydata.org/pandas-docs/stable/user_guide/indexing.html#returning-a-view-versus-a-copy\n",
      "  \"\"\"\n",
      "C:\\Users\\matte\\anaconda3\\lib\\site-packages\\ipykernel_launcher.py:6: SettingWithCopyWarning: \n",
      "A value is trying to be set on a copy of a slice from a DataFrame.\n",
      "Try using .loc[row_indexer,col_indexer] = value instead\n",
      "\n",
      "See the caveats in the documentation: https://pandas.pydata.org/pandas-docs/stable/user_guide/indexing.html#returning-a-view-versus-a-copy\n",
      "  \n",
      "C:\\Users\\matte\\anaconda3\\lib\\site-packages\\ipykernel_launcher.py:7: SettingWithCopyWarning: \n",
      "A value is trying to be set on a copy of a slice from a DataFrame.\n",
      "Try using .loc[row_indexer,col_indexer] = value instead\n",
      "\n",
      "See the caveats in the documentation: https://pandas.pydata.org/pandas-docs/stable/user_guide/indexing.html#returning-a-view-versus-a-copy\n",
      "  import sys\n",
      "C:\\Users\\matte\\anaconda3\\lib\\site-packages\\pandas\\core\\frame.py:3997: SettingWithCopyWarning: \n",
      "A value is trying to be set on a copy of a slice from a DataFrame\n",
      "\n",
      "See the caveats in the documentation: https://pandas.pydata.org/pandas-docs/stable/user_guide/indexing.html#returning-a-view-versus-a-copy\n",
      "  errors=errors,\n"
     ]
    },
    {
     "data": {
      "text/html": [
       "<div>\n",
       "<style scoped>\n",
       "    .dataframe tbody tr th:only-of-type {\n",
       "        vertical-align: middle;\n",
       "    }\n",
       "\n",
       "    .dataframe tbody tr th {\n",
       "        vertical-align: top;\n",
       "    }\n",
       "\n",
       "    .dataframe thead th {\n",
       "        text-align: right;\n",
       "    }\n",
       "</style>\n",
       "<table border=\"1\" class=\"dataframe\">\n",
       "  <thead>\n",
       "    <tr style=\"text-align: right;\">\n",
       "      <th></th>\n",
       "      <th>question</th>\n",
       "      <th>price</th>\n",
       "    </tr>\n",
       "    <tr>\n",
       "      <th>time</th>\n",
       "      <th></th>\n",
       "      <th></th>\n",
       "    </tr>\n",
       "  </thead>\n",
       "  <tbody>\n",
       "    <tr>\n",
       "      <th>Eighties</th>\n",
       "      <td>8108</td>\n",
       "      <td>383.333333</td>\n",
       "    </tr>\n",
       "    <tr>\n",
       "      <th>Ninenties</th>\n",
       "      <td>56745</td>\n",
       "      <td>472.527473</td>\n",
       "    </tr>\n",
       "    <tr>\n",
       "      <th>Two-thousands</th>\n",
       "      <td>123852</td>\n",
       "      <td>812.941176</td>\n",
       "    </tr>\n",
       "    <tr>\n",
       "      <th>Two-twousand tens</th>\n",
       "      <td>28225</td>\n",
       "      <td>833.333333</td>\n",
       "    </tr>\n",
       "  </tbody>\n",
       "</table>\n",
       "</div>"
      ],
      "text/plain": [
       "                   question       price\n",
       "time                                   \n",
       "Eighties           8108      383.333333\n",
       "Ninenties          56745     472.527473\n",
       "Two-thousands      123852    812.941176\n",
       "Two-twousand tens  28225     833.333333"
      ]
     },
     "execution_count": 100,
     "metadata": {},
     "output_type": "execute_result"
    },
    {
     "data": {
      "image/png": "[encoded data removed]",
      "text/plain": [
       "<Figure size 432x288 with 2 Axes>"
      ]
     },
     "metadata": {
      "needs_background": "light"
     },
     "output_type": "display_data"
    }
   ],
   "source": [
    "g = price_overtime(['computer'])\n",
    "g"
   ]
  },
  {
   "cell_type": "markdown",
   "metadata": {},
   "source": [
    "### Creating function to determine the frequency of word(s) in questions for each round "
   ]
  },
  {
   "cell_type": "code",
   "execution_count": 126,
   "metadata": {},
   "outputs": [],
   "source": [
    "def round_word(word):\n",
    "    df_g = df.groupby(['category', 'round']).show_n.count().reset_index()\n",
    "    df_g['category']=df_g.category.astype(str).str.lower()\n",
    "    df_lit = df_g.loc[df_g.category.str.contains(word,case=False)]\n",
    "    df_piv = df_lit.pivot_table(index='category', columns= 'round', values='show_n').fillna(0)\n",
    "    title = 'Frequency of Questions with {} for Each Round'.format(word.title())\n",
    "    ax = df_piv.plot(title = title)\n",
    "    ax.axes.get_xaxis().set_ticks([])\n",
    "    ax.set_ylabel('Frequency')\n",
    "    return plt.show()"
   ]
  },
  {
   "cell_type": "code",
   "execution_count": 127,
   "metadata": {},
   "outputs": [
    {
     "data": {
      "image/png": "[encoded data removed]",
      "text/plain": [
       "<Figure size 432x288 with 1 Axes>"
      ]
     },
     "metadata": {
      "needs_background": "light"
     },
     "output_type": "display_data"
    }
   ],
   "source": [
    "round_word('U.S')"
   ]
  },
  {
   "cell_type": "code",
   "execution_count": 96,
   "metadata": {},
   "outputs": [],
   "source": [
    "df_high = df.loc[df.pricef > df.pricef.quantile(0.9)]\n",
    "df_low = df.loc[df.pricef < df.pricef.quantile(0.1)]"
   ]
  },
  {
   "cell_type": "code",
   "execution_count": 97,
   "metadata": {},
   "outputs": [
    {
     "data": {
      "text/plain": [
       "the       14286\n",
       "of        9422 \n",
       "this      9382 \n",
       "in        7953 \n",
       "a         6987 \n",
       "to        3944 \n",
       "&         3388 \n",
       "for       2931 \n",
       "is        2787 \n",
       "was       2265 \n",
       "on        1883 \n",
       "from      1791 \n",
       "by        1415 \n",
       "with      1359 \n",
       "his       1341 \n",
       "as        1302 \n",
       "that      1233 \n",
       "<a        1194 \n",
       "an        1110 \n",
       "name      1042 \n",
       "he        1035 \n",
       "it        1031 \n",
       "at        999  \n",
       "it's      894  \n",
       "\"the      797  \n",
       "one       778  \n",
       "these     760  \n",
       "first     749  \n",
       "clue      748  \n",
       "(<a       723  \n",
       "or        687  \n",
       "crew      661  \n",
       "who       653  \n",
       "its       643  \n",
       "are       637  \n",
       "you       610  \n",
       "named     508  \n",
       "called    484  \n",
       "her       461  \n",
       "be        448  \n",
       "seen      444  \n",
       "when      441  \n",
       "and       440  \n",
       "has       426  \n",
       "about     425  \n",
       "like      416  \n",
       "2         413  \n",
       "title     412  \n",
       "after     391  \n",
       "city      384  \n",
       "dtype: int64"
      ]
     },
     "execution_count": 97,
     "metadata": {},
     "output_type": "execute_result"
    }
   ],
   "source": [
    "pd.Series(' '.join(df_high['question']).lower().split()).value_counts()[:50]"
   ]
  },
  {
   "cell_type": "code",
   "execution_count": 166,
   "metadata": {},
   "outputs": [
    {
     "name": "stdout",
     "output_type": "stream",
     "text": [
      "Yes\n"
     ]
    }
   ],
   "source": [
    "char = 'England'\n",
    "x = 'england\\'s finests'\n",
    "if re.search(r'\\b'+char.lower()+r's*\\'*\\b',x):\n",
    "    print('Yes')\n",
    "else:\n",
    "    print('No')"
   ]
  },
  {
   "cell_type": "code",
   "execution_count": null,
   "metadata": {},
   "outputs": [],
   "source": []
  }
 ],
 "metadata": {
  "kernelspec": {
   "display_name": "Python 3",
   "language": "python",
   "name": "python3"
  },
  "language_info": {
   "codemirror_mode": {
    "name": "ipython",
    "version": 3
   },
   "file_extension": ".py",
   "mimetype": "text/x-python",
   "name": "python",
   "nbconvert_exporter": "python",
   "pygments_lexer": "ipython3",
   "version": "3.7.6"
  }
 },
 "nbformat": 4,
 "nbformat_minor": 4
}
